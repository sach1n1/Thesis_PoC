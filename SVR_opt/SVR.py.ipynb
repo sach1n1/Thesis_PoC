{
 "cells": [
  {
   "cell_type": "code",
   "execution_count": 17,
   "metadata": {
    "collapsed": true
   },
   "outputs": [
    {
     "name": "stdout",
     "output_type": "stream",
     "text": [
      "[[0.66]\n",
      " [0.66]\n",
      " [0.75]\n",
      " ...\n",
      " [0.84]\n",
      " [0.8 ]\n",
      " [0.79]]\n"
     ]
    }
   ],
   "source": [
    "from sklearn.preprocessing import MinMaxScaler\n",
    "\n",
    "from common.utils import load_data, mape, rmse, compar\n",
    "\n",
    "\n",
    "vibration = load_data('/home/sachin/Thesis/data')[['vibration']]\n",
    "\n",
    "\n",
    "\n",
    "train_start_dt = '2021-05-27 06:00:00'\n",
    "test_start_dt = '2021-05-27 12:00:00'\n",
    "test_end_dt = '2021-05-27 13:00:00'\n",
    "\n",
    "scaler = MinMaxScaler()\n",
    "\n",
    "result_dict = dict()\n",
    "iteration_dict = dict()\n",
    "\n",
    "\n",
    "train = vibration.copy()[(vibration.index >= train_start_dt) & (vibration.index < test_start_dt)][['vibration']]\n",
    "test = vibration.copy()[(vibration.index >= test_start_dt) & (vibration.index < test_end_dt)][['vibration']]\n",
    "print(train.values)"
   ]
  },
  {
   "cell_type": "code",
   "execution_count": 18,
   "outputs": [
    {
     "name": "stdout",
     "output_type": "stream",
     "text": [
      "[[0.81]\n",
      " [0.74]\n",
      " [0.7 ]\n",
      " ...\n",
      " [0.56]\n",
      " [0.57]\n",
      " [0.57]]\n"
     ]
    }
   ],
   "source": [
    "print(test.values)"
   ],
   "metadata": {
    "collapsed": false,
    "pycharm": {
     "name": "#%%\n"
    }
   }
  },
  {
   "cell_type": "code",
   "execution_count": 19,
   "outputs": [
    {
     "name": "stdout",
     "output_type": "stream",
     "text": [
      "[[0.66]\n",
      " [0.66]\n",
      " [0.75]\n",
      " ...\n",
      " [0.84]\n",
      " [0.8 ]\n",
      " [0.79]]\n"
     ]
    }
   ],
   "source": [
    "print(train.values)\n",
    "\n",
    "train['vibration'] = scaler.fit_transform(train)\n",
    "\n",
    "test['vibration'] = scaler.transform(test)\n",
    "\n",
    "train_data = train.values\n",
    "test_data = test.values\n"
   ],
   "metadata": {
    "collapsed": false,
    "pycharm": {
     "name": "#%%\n"
    }
   }
  },
  {
   "cell_type": "code",
   "execution_count": 20,
   "outputs": [
    {
     "name": "stdout",
     "output_type": "stream",
     "text": [
      "[[0.12393162]\n",
      " [0.13247863]\n",
      " [0.15811966]\n",
      " ...\n",
      " [0.06410256]\n",
      " [0.06837607]\n",
      " [0.06837607]]\n",
      "{'MAPE': 4.94, 'RMSE': 4.0, 'TMAPE': 0.05, 'TRMSE': 0.04, 'Time Taken': 0.53}\n"
     ]
    }
   ],
   "source": [
    "import numpy as np\n",
    "from time import time\n",
    "from sklearn.svm import SVR\n",
    "from sklearn.metrics import mean_squared_error, mean_absolute_percentage_error\n",
    "from sklearn.preprocessing import MinMaxScaler\n",
    "from matplotlib import pyplot as plt\n",
    "\n",
    "timesteps = 5\n",
    "\n",
    "start = time()\n",
    "\n",
    "train_data_timesteps = np.array(\n",
    "    [[j for j in train_data[i:i + timesteps]] for i in range(0, len(train_data) - timesteps + 1)])[:, :, 0]\n",
    "test_data_timesteps = np.array(\n",
    "    [[j for j in test_data[i:i + timesteps]] for i in range(0, len(test_data) - timesteps + 1)])[:, :, 0]\n",
    "\n",
    "x_train, y_train = train_data_timesteps[:, :timesteps - 1], train_data_timesteps[:, [timesteps - 1]]\n",
    "x_test, y_test = test_data_timesteps[:, :timesteps - 1], test_data_timesteps[:, [timesteps - 1]]\n",
    "\n",
    "print(y_test)\n",
    "\n",
    "model = SVR(kernel='rbf', gamma=1, C=10, epsilon=0.01)\n",
    "\n",
    "model.fit(x_train, y_train[:, 0])\n",
    "\n",
    "y_train_pred = model.predict(x_train).reshape(-1, 1)\n",
    "y_test_pred = model.predict(x_test).reshape(-1, 1)\n",
    "\n",
    "y_train_pred = scaler.inverse_transform(y_train_pred)\n",
    "y_test_pred = scaler.inverse_transform(y_test_pred)\n",
    "\n",
    "y_train = scaler.inverse_transform(y_train)\n",
    "y_test = scaler.inverse_transform(y_test)\n",
    "\n",
    "train_timestamps = vibration[(vibration.index < test_start_dt) & (vibration.index >= train_start_dt)].index[\n",
    "                   timesteps - 1:]\n",
    "test_timestamps = vibration[(vibration.index < test_end_dt) & (vibration.index >= test_start_dt)].index[\n",
    "                  timesteps - 1:]\n",
    "iteration_dict[\"MAPE\"] = round(mape(y_test_pred, y_test) * 100, 2)\n",
    "iteration_dict[\"RMSE\"] = round(rmse(y_test_pred, y_test) * 100, 2)\n",
    "iteration_dict[\"TMAPE\"] = round(mean_absolute_percentage_error(y_test, y_test_pred),2)\n",
    "iteration_dict[\"TRMSE\"] = round(mean_squared_error(y_test, y_test_pred, squared=False),2)\n",
    "\n",
    "iteration_dict[\"Time Taken\"] = round((time() - start) / 60, 2)\n",
    "print(iteration_dict)\n",
    "\n",
    "# plt.plot(train)"
   ],
   "metadata": {
    "collapsed": false,
    "pycharm": {
     "name": "#%%\n"
    }
   }
  },
  {
   "cell_type": "code",
   "execution_count": 20,
   "outputs": [],
   "source": [],
   "metadata": {
    "collapsed": false,
    "pycharm": {
     "name": "#%%\n"
    }
   }
  },
  {
   "cell_type": "code",
   "execution_count": 21,
   "outputs": [
    {
     "name": "stdout",
     "output_type": "stream",
     "text": [
      "[[0.70913592]\n",
      " [0.70771584]\n",
      " [0.72796648]\n",
      " ...\n",
      " [0.55423148]\n",
      " [0.57042975]\n",
      " [0.58244836]]\n"
     ]
    }
   ],
   "source": [
    "print(y_test_pred)"
   ],
   "metadata": {
    "collapsed": false,
    "pycharm": {
     "name": "#%%\n"
    }
   }
  }
 ],
 "metadata": {
  "kernelspec": {
   "display_name": "Python 3",
   "language": "python",
   "name": "python3"
  },
  "language_info": {
   "codemirror_mode": {
    "name": "ipython",
    "version": 2
   },
   "file_extension": ".py",
   "mimetype": "text/x-python",
   "name": "python",
   "nbconvert_exporter": "python",
   "pygments_lexer": "ipython2",
   "version": "2.7.6"
  }
 },
 "nbformat": 4,
 "nbformat_minor": 0
}