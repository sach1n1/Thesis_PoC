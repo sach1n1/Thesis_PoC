{
 "cells": [
  {
   "cell_type": "code",
   "execution_count": null,
   "metadata": {
    "collapsed": true
   },
   "outputs": [],
   "source": [
    "from sklearn.preprocessing import MinMaxScaler\n",
    "from sklearn.metrics import mean_squared_error\n",
    "from ProcessDB import ProcessDB\n",
    "from PredictSVR import PredictSVR\n",
    "\n",
    "\n",
    "\n",
    "\n",
    "database_path = \"/home/sachin/Downloads/RWO_0004_Ventilatoren_00.sqlite\"\n",
    "\n",
    "forecast_hour = '2021-05-27 12:00:00'\n",
    "training_duration = 6\n",
    "\n",
    "scaler = MinMaxScaler()\n",
    "\n",
    "df = ProcessDB(database_path, forecast_hour, training_duration)\n",
    "\n",
    "df_predictions = PredictSVR(df.train, df.test)\n",
    "\n",
    "print(\"Test Predictions\")\n",
    "print(mean_squared_error(df.test[-900:], df_predictions.p_test[-900:]))\n",
    "#print(mean_absolute_percentage_error(df.test[-3600:], df_predictions.p_test))\n",
    "\n",
    "print(\"Real Predictions\")\n",
    "print(mean_squared_error(df.test[-900:], df_predictions.gp_test[-900:]))\n",
    "#print(mean_absolute_percentage_error(df.test[-3600:], df_predictions.gp_test[-3600:]))\n"
   ]
  },
  {
   "cell_type": "code",
   "execution_count": null,
   "outputs": [],
   "source": [
    "\n",
    "import matplotlib.pyplot as plt\n",
    "pred = df_predictions.gp_test[-900:]\n",
    "pred = pred.reshape(1,-1)\n",
    "new_df = df.test[-900:]\n",
    "new_df[\"predict\"] = pred[0]\n",
    "new_df[\"test\"] = df_predictions.p_test\n",
    "plt.plot(new_df)\n",
    "print(new_df)"
   ],
   "metadata": {
    "collapsed": false,
    "pycharm": {
     "name": "#%%\n"
    }
   }
  }
 ],
 "metadata": {
  "kernelspec": {
   "display_name": "Python 3",
   "language": "python",
   "name": "python3"
  },
  "language_info": {
   "codemirror_mode": {
    "name": "ipython",
    "version": 2
   },
   "file_extension": ".py",
   "mimetype": "text/x-python",
   "name": "python",
   "nbconvert_exporter": "python",
   "pygments_lexer": "ipython2",
   "version": "2.7.6"
  }
 },
 "nbformat": 4,
 "nbformat_minor": 0
}