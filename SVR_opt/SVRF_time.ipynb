{
 "cells": [
  {
   "cell_type": "code",
   "execution_count": 1,
   "metadata": {
    "collapsed": true
   },
   "outputs": [
    {
     "name": "stdout",
     "output_type": "stream",
     "text": [
      "hello\n",
      "                     value\n",
      "2021-05-27 05:59:56   0.66\n",
      "2021-05-27 05:59:57   0.65\n",
      "2021-05-27 05:59:58   0.64\n",
      "2021-05-27 05:59:59   0.70\n",
      "2021-05-27 06:00:00   0.66\n",
      "...                    ...\n",
      "2021-05-27 11:59:55   0.96\n",
      "2021-05-27 11:59:56   0.91\n",
      "2021-05-27 11:59:57   0.84\n",
      "2021-05-27 11:59:58   0.80\n",
      "2021-05-27 11:59:59   0.79\n",
      "\n",
      "[21604 rows x 1 columns]\n",
      "                     value\n",
      "2021-05-27 11:59:56   0.91\n",
      "2021-05-27 11:59:57   0.84\n",
      "2021-05-27 11:59:58   0.80\n",
      "2021-05-27 11:59:59   0.79\n",
      "2021-05-27 12:00:00   0.81\n",
      "...                    ...\n",
      "2021-05-27 12:59:55   0.59\n",
      "2021-05-27 12:59:56   0.55\n",
      "2021-05-27 12:59:57   0.56\n",
      "2021-05-27 12:59:58   0.57\n",
      "2021-05-27 12:59:59   0.57\n",
      "\n",
      "[3604 rows x 1 columns]\n"
     ]
    }
   ],
   "source": [
    "from sklearn.preprocessing import MinMaxScaler\n",
    "from ProcessDB import ProcessDB\n",
    "\n",
    "from common.utils import load_data, mape, rmse, compar\n",
    "\n",
    "\n",
    "forecast_hour = '2021-05-27 12:00:00'\n",
    "training_duration = 6\n",
    "\n",
    "scaler = MinMaxScaler()\n",
    "database_path = \"/home/sachin/Downloads/RWO_0004_Ventilatoren_00.sqlite\"\n",
    "\n",
    "df = ProcessDB(database_path, forecast_hour, training_duration)\n",
    "\n",
    "scaler = MinMaxScaler()\n",
    "\n"
   ]
  },
  {
   "cell_type": "code",
   "execution_count": 2,
   "outputs": [],
   "source": [
    "from sklearn.svm import SVR\n",
    "\n",
    "df.train['value'] = scaler.fit_transform(df.train)\n",
    "\n",
    "df.test['value'] = scaler.transform(df.test)\n",
    "\n",
    "train_data = df.train[\"value\"].tolist()\n",
    "test_data = df.test.values\n",
    "print(train_data)"
   ],
   "metadata": {
    "collapsed": false,
    "pycharm": {
     "name": "#%%\n"
    }
   }
  },
  {
   "cell_type": "code",
   "execution_count": 3,
   "outputs": [
    {
     "name": "stdout",
     "output_type": "stream",
     "text": [
      "[ 2.51906461  8.16896789 -4.65413373 ...  5.52778969  5.52778969\n",
      "  5.52778969]\n"
     ]
    }
   ],
   "source": [
    "import numpy as np\n",
    "from datetime import datetime\n",
    "train_dates = [int(x.timestamp()) for x in df.train.index]\n",
    "test_dates = [int(x.timestamp()) for x in df.test.index]\n",
    "train_dates = np.array(train_dates)\n",
    "test_dates = np.array(test_dates)\n",
    "train_dates = np.reshape(train_dates, (len(train_dates), 1))\n",
    "test_dates = np.reshape(test_dates, (len(test_dates), 1))\n",
    "\n",
    "\n",
    "model = SVR(kernel='rbf', gamma=1, C=10, epsilon=0.01)\n",
    "#\n",
    "model.fit(train_dates, train_data)\n",
    "y_test_pred = model.predict(test_dates)\n",
    "print(y_test_pred)\n",
    "\n",
    "#y_test_pred = model.predict(test_dates).reshape(1, -1)\n",
    "\n",
    "\n"
   ],
   "metadata": {
    "collapsed": false,
    "pycharm": {
     "name": "#%%\n"
    }
   }
  },
  {
   "cell_type": "code",
   "execution_count": null,
   "outputs": [],
   "source": [],
   "metadata": {
    "collapsed": false,
    "pycharm": {
     "name": "#%%\n"
    }
   }
  }
 ],
 "metadata": {
  "kernelspec": {
   "display_name": "Python 3",
   "language": "python",
   "name": "python3"
  },
  "language_info": {
   "codemirror_mode": {
    "name": "ipython",
    "version": 2
   },
   "file_extension": ".py",
   "mimetype": "text/x-python",
   "name": "python",
   "nbconvert_exporter": "python",
   "pygments_lexer": "ipython2",
   "version": "2.7.6"
  }
 },
 "nbformat": 4,
 "nbformat_minor": 0
}