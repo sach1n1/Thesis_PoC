{
 "cells": [
  {
   "cell_type": "code",
   "execution_count": 1,
   "metadata": {
    "collapsed": true
   },
   "outputs": [],
   "source": [
    "from sklearn.preprocessing import MinMaxScaler\n",
    "from sklearn.metrics import mean_squared_error\n",
    "from ProcessDB import ProcessDB\n",
    "from PredictSVR import PredictSVR\n",
    "from statsmodels.tsa.statespace.sarimax import SARIMAX\n",
    "\n",
    "\n",
    "\n",
    "\n",
    "database_path = \"/home/sachin/Downloads/RWO_0004_Ventilatoren_00.sqlite\"\n",
    "\n",
    "forecast_hour = '2021-05-27 12:00:00'\n",
    "training_duration = 6\n",
    "\n",
    "scaler = MinMaxScaler()\n",
    "\n",
    "df = ProcessDB(database_path, forecast_hour, training_duration)"
   ]
  },
  {
   "cell_type": "code",
   "execution_count": 2,
   "outputs": [
    {
     "name": "stderr",
     "output_type": "stream",
     "text": [
      "/home/sachin/.local/lib/python3.6/site-packages/statsmodels/base/model.py:568: ConvergenceWarning: Maximum Likelihood optimization failed to converge. Check mle_retvals\n",
      "  ConvergenceWarning)\n"
     ]
    },
    {
     "name": "stdout",
     "output_type": "stream",
     "text": [
      "                               SARIMAX Results                                \n",
      "==============================================================================\n",
      "Dep. Variable:                  value   No. Observations:                21604\n",
      "Model:               SARIMAX(4, 1, 1)   Log Likelihood               35547.471\n",
      "Date:                Tue, 16 Aug 2022   AIC                         -71082.943\n",
      "Time:                        09:29:19   BIC                         -71035.059\n",
      "Sample:                    05-27-2021   HQIC                        -71067.335\n",
      "                         - 05-27-2021                                         \n",
      "Covariance Type:                  opg                                         \n",
      "==============================================================================\n",
      "                 coef    std err          z      P>|z|      [0.025      0.975]\n",
      "------------------------------------------------------------------------------\n",
      "ar.L1         -0.3832      0.003   -112.239      0.000      -0.390      -0.377\n",
      "ar.L2         -0.3258      0.004    -75.623      0.000      -0.334      -0.317\n",
      "ar.L3         -0.2677      0.004    -60.976      0.000      -0.276      -0.259\n",
      "ar.L4         -0.1857      0.004    -44.286      0.000      -0.194      -0.177\n",
      "ma.L1         -0.9997      0.008   -126.120      0.000      -1.015      -0.984\n",
      "sigma2         0.0022   1.69e-05    128.480      0.000       0.002       0.002\n",
      "===================================================================================\n",
      "Ljung-Box (L1) (Q):                  14.04   Jarque-Bera (JB):            177806.53\n",
      "Prob(Q):                              0.00   Prob(JB):                         0.00\n",
      "Heteroskedasticity (H):               0.72   Skew:                            -0.36\n",
      "Prob(H) (two-sided):                  0.00   Kurtosis:                        17.04\n",
      "===================================================================================\n",
      "\n",
      "Warnings:\n",
      "[1] Covariance matrix calculated using the outer product of gradients (complex-step).\n"
     ]
    }
   ],
   "source": [
    "scaler = MinMaxScaler()\n",
    "\n",
    "df.train['value'] = scaler.fit_transform(df.train)\n",
    "df.test['value'] = scaler.transform(df.test)\n",
    "df.train = df.train.diff()\n",
    "HORIZON = 904\n",
    "\n",
    "order = (4, 1, 1)\n",
    "seasonal_order = (1, 1, 0, 24)\n",
    "\n",
    "model = SARIMAX(endog=df.train, order=order)\n",
    "results = model.fit()\n",
    "\n",
    "print(results.summary())"
   ],
   "metadata": {
    "collapsed": false,
    "pycharm": {
     "name": "#%%\n"
    }
   }
  },
  {
   "cell_type": "code",
   "execution_count": 3,
   "outputs": [],
   "source": [
    "yhat = results.forecast(steps = HORIZON)\n"
   ],
   "metadata": {
    "collapsed": false,
    "pycharm": {
     "name": "#%%\n"
    }
   }
  },
  {
   "cell_type": "code",
   "execution_count": 4,
   "outputs": [],
   "source": [
    "yhat = scaler.inverse_transform(yhat.values.reshape(-1,1))"
   ],
   "metadata": {
    "collapsed": false,
    "pycharm": {
     "name": "#%%\n"
    }
   }
  },
  {
   "cell_type": "code",
   "execution_count": 5,
   "outputs": [
    {
     "data": {
      "text/plain": "[<matplotlib.lines.Line2D at 0x7f6d55406f98>]"
     },
     "execution_count": 5,
     "metadata": {},
     "output_type": "execute_result"
    },
    {
     "data": {
      "text/plain": "<Figure size 432x288 with 1 Axes>",
      "image/png": "[encoded data removed]"
     },
     "metadata": {
      "needs_background": "light"
     },
     "output_type": "display_data"
    }
   ],
   "source": [
    "df.test['value'] = scaler.inverse_transform(df.test)\n",
    "\n",
    "import matplotlib.pyplot as plt\n",
    "plt.plot(df.test['value'].values[:60])\n",
    "plt.plot(yhat[:60])\n"
   ],
   "metadata": {
    "collapsed": false,
    "pycharm": {
     "name": "#%%\n"
    }
   }
  }
 ],
 "metadata": {
  "kernelspec": {
   "display_name": "Python 3",
   "language": "python",
   "name": "python3"
  },
  "language_info": {
   "codemirror_mode": {
    "name": "ipython",
    "version": 2
   },
   "file_extension": ".py",
   "mimetype": "text/x-python",
   "name": "python",
   "nbconvert_exporter": "python",
   "pygments_lexer": "ipython2",
   "version": "2.7.6"
  }
 },
 "nbformat": 4,
 "nbformat_minor": 0
}