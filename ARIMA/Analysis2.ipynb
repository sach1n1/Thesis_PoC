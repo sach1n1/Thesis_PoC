{
 "cells": [
  {
   "cell_type": "code",
   "execution_count": 2,
   "metadata": {
    "collapsed": true
   },
   "outputs": [
    {
     "data": {
      "text/plain": "<Figure size 432x288 with 1 Axes>",
      "image/png": "[encoded data removed]"
     },
     "metadata": {
      "needs_background": "light"
     },
     "output_type": "display_data"
    }
   ],
   "source": [
    "import sqlite3 as db\n",
    "import pandas as pd\n",
    "import statsmodels.api as sm\n",
    "from datetime import datetime\n",
    "import sqlite3 as db\n",
    "import pandas as pd\n",
    "import statsmodels.api as sm\n",
    "from datetime import datetime\n",
    "import matplotlib.pyplot as plt\n",
    "database = \"/home/sachin/Downloads/RWO_0004_Ventilatoren_00.sqlite\"\n",
    "\n",
    "con = db.connect(database)\n",
    "df = pd.read_sql_query(f\"SELECT time, value FROM Value WHERE sensor_id=2 AND \"\n",
    "                       f\"time >= '{1619179200000}' AND time < '{1648764000000}'\",\n",
    "                       con)\n",
    "df[\"time\"] = df[\"time\"].apply(lambda utc: datetime.fromtimestamp(int(utc / 1000)))\n",
    "df.drop_duplicates(subset=\"time\", keep=\"first\", inplace=True)\n",
    "df.index = df['time']\n",
    "df = df.reindex(pd.date_range(min(df.index),\n",
    "                              max(df.index),\n",
    "                              freq='S'))\n",
    "df.drop('time', axis=1, inplace=True)\n",
    "df = df.interpolate().fillna(method='bfill')\n",
    "con.close()\n",
    "df.hist(bins=20)\n",
    "plt.title(\"Distribution of Vibration data for azeti dataset\")\n",
    "plt.xlabel('Vibration Values')\n",
    "plt.savefig(\"hist_vib_azeti.eps\", format=\"eps\", dpi=1200)\n",
    "plt.savefig(\"hist_vib_azeti.jpg\", format=\"jpg\", dpi=1200)\n",
    "plt.show()"
   ]
  },
  {
   "cell_type": "code",
   "execution_count": 8,
   "outputs": [
    {
     "data": {
      "text/plain": "<Figure size 432x288 with 1 Axes>",
      "image/png": "[encoded data removed]"
     },
     "metadata": {
      "needs_background": "light"
     },
     "output_type": "display_data"
    }
   ],
   "source": [
    "df.hist(bins=30)\n",
    "plt.title(\"Distribution of Vibration data for azeti dataset\")\n",
    "plt.xlabel('Vibration Values')\n",
    "plt.savefig(\"hist_vib_azeti.eps\", format=\"eps\", dpi=1200)\n",
    "plt.savefig(\"hist_vib_azeti.jpg\", format=\"jpg\", dpi=1200)\n",
    "plt.show()\n"
   ],
   "metadata": {
    "collapsed": false,
    "pycharm": {
     "name": "#%%\n"
    }
   }
  },
  {
   "cell_type": "code",
   "execution_count": null,
   "outputs": [],
   "source": [
    "from pandas.plotting import autocorrelation_plot\n",
    "autocorrelation_plot(df)"
   ],
   "metadata": {
    "collapsed": false,
    "pycharm": {
     "name": "#%%\n"
    }
   }
  },
  {
   "cell_type": "code",
   "execution_count": null,
   "outputs": [],
   "source": [
    "df.hist()\n"
   ],
   "metadata": {
    "collapsed": false,
    "pycharm": {
     "name": "#%%\n"
    }
   }
  },
  {
   "cell_type": "code",
   "execution_count": null,
   "outputs": [],
   "source": [
    "from statsmodels.stats.diagnostic import acorr_ljungbox\n",
    "\n",
    "acorr_ljungbox(df, lags=[1], return_df=True)"
   ],
   "metadata": {
    "collapsed": false,
    "pycharm": {
     "name": "#%%\n"
    }
   }
  },
  {
   "cell_type": "code",
   "execution_count": null,
   "outputs": [],
   "source": [
    "walk_diff = df.diff()\n",
    "plt.plot(walk_diff)\n",
    "print(walk_diff.mean())"
   ],
   "metadata": {
    "collapsed": false,
    "pycharm": {
     "name": "#%%\n"
    }
   }
  },
  {
   "cell_type": "code",
   "execution_count": null,
   "outputs": [],
   "source": [
    "walk_diff.hist()"
   ],
   "metadata": {
    "collapsed": false,
    "pycharm": {
     "name": "#%%\n"
    }
   }
  },
  {
   "cell_type": "code",
   "execution_count": null,
   "outputs": [],
   "source": [
    "from pandas.plotting import autocorrelation_plot\n",
    "autocorrelation_plot(walk_diff)"
   ],
   "metadata": {
    "collapsed": false,
    "pycharm": {
     "name": "#%%\n"
    }
   }
  },
  {
   "cell_type": "code",
   "execution_count": null,
   "outputs": [],
   "source": [
    "import matplotlib.pyplot as plt\n",
    "new = df.resample('T').mean()\n",
    "# new = df\n",
    "\n",
    "# new = new.diff().dropna()\n",
    "result = sm.tsa.stattools.adfuller(new[\"value\"])\n",
    "print(f'ADF Statistic: {result[0]}')\n",
    "print(f'n_lags: {result[1]}')\n",
    "print(f'p-value: {result[1]}')\n",
    "for key, value in result[4].items():\n",
    "    print('Critial Values:')\n",
    "    print(f'   {key}, {value}')\n",
    "\n",
    "if result[1] < 0.05 and result[0] < result[4]['5%']:\n",
    "    print(\"Stationary\")\n",
    "else:\n",
    "    print(\"Non Stationary\")\n",
    "\n",
    "#new = df.resample('60min').mean()\n"
   ],
   "metadata": {
    "collapsed": false,
    "pycharm": {
     "name": "#%%\n"
    }
   }
  },
  {
   "cell_type": "code",
   "execution_count": null,
   "outputs": [],
   "source": [
    "plt.plot(new)\n",
    "plt.show()"
   ],
   "metadata": {
    "collapsed": false,
    "pycharm": {
     "name": "#%%\n"
    }
   }
  },
  {
   "cell_type": "code",
   "execution_count": null,
   "outputs": [],
   "source": [
    "from statsmodels.graphics.tsaplots import plot_acf, plot_pacf\n",
    "plot_pacf(new)\n",
    "plt.show()\n",
    "p=4"
   ],
   "metadata": {
    "collapsed": false,
    "pycharm": {
     "name": "#%%\n"
    }
   }
  },
  {
   "cell_type": "code",
   "execution_count": null,
   "outputs": [],
   "source": [
    "plot_acf(new)\n",
    "plt.show()\n",
    "q=1"
   ],
   "metadata": {
    "collapsed": false,
    "pycharm": {
     "name": "#%%\n"
    }
   }
  },
  {
   "cell_type": "code",
   "execution_count": null,
   "outputs": [],
   "source": [
    "d=1\n",
    "new = df.resample('T').mean()\n",
    "test_len = int(len(new) * 0.2)\n",
    "from sklearn.preprocessing import MinMaxScaler\n",
    "scaler = MinMaxScaler()\n",
    "train, test = new.iloc[:-test_len], new.iloc[-test_len:]\n",
    "\n",
    "train['value'] = scaler.fit_transform(train)\n",
    "\n",
    "test['value'] = scaler.transform(test)\n",
    "\n",
    "from statsmodels.tsa.statespace.sarimax import SARIMAX\n",
    "model = SARIMAX(train, order=(p,d,q))\n",
    "model_fit = model.fit()"
   ],
   "metadata": {
    "collapsed": false,
    "pycharm": {
     "name": "#%%\n"
    }
   }
  },
  {
   "cell_type": "code",
   "execution_count": null,
   "outputs": [],
   "source": [
    "n_test = test.shape[0]\n",
    "print(n_test)\n",
    "pred = model_fit.forecast(steps=n_test)"
   ],
   "metadata": {
    "collapsed": false,
    "pycharm": {
     "name": "#%%\n"
    }
   }
  },
  {
   "cell_type": "code",
   "execution_count": null,
   "outputs": [],
   "source": [
    "import numpy as np\n",
    "pred = scaler.inverse_transform(np.array(pred).reshape(-1, 1))\n",
    "train['value'] = scaler.inverse_transform(train)\n",
    "\n",
    "test['value'] = scaler.inverse_transform(test)\n",
    "\n",
    "pred_df = pd.DataFrame(index=test.index)\n",
    "pred_df[\"pred\"] = pred\n",
    "\n",
    "plt.plot(pred_df, label='prediction')\n",
    "plt.plot(test, label='actual')\n",
    "plt.title('Multi-step Forecasting (manual parameters)')\n",
    "plt.legend()\n",
    "plt.grid()\n",
    "plt.xticks(rotation=90)\n",
    "plt.show()"
   ],
   "metadata": {
    "collapsed": false,
    "pycharm": {
     "name": "#%%\n"
    }
   }
  },
  {
   "cell_type": "code",
   "execution_count": null,
   "outputs": [],
   "source": [
    "from sklearn.metrics import mean_squared_error, mean_absolute_percentage_error\n",
    "\n",
    "#print(test)\n",
    "#print(pred)\n",
    "print(mean_squared_error(test,pred,squared=False))\n",
    "print(mean_absolute_percentage_error(test,pred))"
   ],
   "metadata": {
    "collapsed": false,
    "pycharm": {
     "name": "#%%\n"
    }
   }
  },
  {
   "cell_type": "code",
   "execution_count": null,
   "outputs": [],
   "source": [
    "from sktime.forecasting.arima import AutoARIMA\n",
    "\n",
    "forecaster = AutoARIMA(start_p=4, max_p=10, suppress_warnings=True)\n",
    "train.index = train.index.astype(int)\n",
    "forecaster.fit(train)\n",
    "print(forecaster.summary())"
   ],
   "metadata": {
    "collapsed": false,
    "pycharm": {
     "name": "#%%\n"
    }
   }
  },
  {
   "cell_type": "code",
   "execution_count": null,
   "outputs": [],
   "source": [],
   "metadata": {
    "collapsed": false,
    "pycharm": {
     "name": "#%%\n"
    }
   }
  }
 ],
 "metadata": {
  "kernelspec": {
   "display_name": "Python 3",
   "language": "python",
   "name": "python3"
  },
  "language_info": {
   "codemirror_mode": {
    "name": "ipython",
    "version": 2
   },
   "file_extension": ".py",
   "mimetype": "text/x-python",
   "name": "python",
   "nbconvert_exporter": "python",
   "pygments_lexer": "ipython2",
   "version": "2.7.6"
  }
 },
 "nbformat": 4,
 "nbformat_minor": 0
}