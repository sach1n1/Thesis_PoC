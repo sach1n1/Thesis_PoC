{
 "cells": [
  {
   "cell_type": "code",
   "execution_count": 1,
   "metadata": {
    "collapsed": true
   },
   "outputs": [],
   "source": [
    "import sqlite3 as db\n",
    "import pandas as pd\n",
    "import statsmodels.api as sm\n",
    "from datetime import datetime\n",
    "database = \"/home/sachin/Downloads/RWO_0004_Ventilatoren_00.sqlite\"\n",
    "\n",
    "con = db.connect(database)\n",
    "df = pd.read_sql_query(f\"SELECT time, value FROM Value WHERE sensor_id=2 AND \"\n",
    "                       f\"time >= '{1619820000000}' AND time < '{1619848800000}'\",\n",
    "                       con)\n",
    "df[\"time\"] = df[\"time\"].apply(lambda utc: datetime.fromtimestamp(int(utc / 1000)))\n",
    "df.drop_duplicates(subset=\"time\", keep=\"first\", inplace=True)\n",
    "df.index = df['time']\n",
    "df.drop('time', axis=1, inplace=True)\n",
    "df = df.reindex(pd.date_range(min(df.index),\n",
    "                              max(df.index),\n",
    "                              freq='S'))\n",
    "df = df.interpolate().fillna(method='bfill')\n",
    "con.close()"
   ]
  },
  {
   "cell_type": "code",
   "execution_count": 21,
   "outputs": [
    {
     "name": "stdout",
     "output_type": "stream",
     "text": [
      "                        value\n",
      "2021-04-23 02:00:27  0.707373\n",
      "2021-04-23 02:00:28  0.707377\n",
      "2021-04-23 02:00:29  0.707381\n",
      "2021-04-23 02:00:30  0.707386\n",
      "2021-04-23 02:00:31  0.707390\n",
      "...                       ...\n",
      "2021-04-30 02:00:22  1.800430\n",
      "2021-04-30 02:00:23  1.548030\n",
      "2021-04-30 02:00:24  1.456980\n",
      "2021-04-30 02:00:25  1.375830\n",
      "2021-04-30 02:00:26  1.375100\n",
      "\n",
      "[604800 rows x 1 columns]\n"
     ]
    }
   ],
   "source": [
    "print(df)"
   ],
   "metadata": {
    "collapsed": false,
    "pycharm": {
     "name": "#%%\n"
    }
   }
  },
  {
   "cell_type": "code",
   "execution_count": null,
   "outputs": [],
   "source": [
    "# import matplotlib.pyplot as plt\n",
    "# df.plot()\n",
    "# # plt.savefig('full_data_spikes_removed.eps', format='eps')\n"
   ],
   "metadata": {
    "collapsed": false,
    "pycharm": {
     "name": "#%%\n"
    }
   }
  },
  {
   "cell_type": "code",
   "execution_count": 2,
   "outputs": [
    {
     "name": "stdout",
     "output_type": "stream",
     "text": [
      "ADF Statistic: -11.55433234620892\n",
      "p-value: 3.3876226446107232e-21\n",
      "Critial Values:\n",
      "   1%, -3.430577482137719\n",
      "Critial Values:\n",
      "   5%, -2.861640540795267\n",
      "Critial Values:\n",
      "   10%, -2.566823514825133\n"
     ]
    }
   ],
   "source": [
    "result = sm.tsa.stattools.adfuller(df[\"value\"])\n",
    "print(f'ADF Statistic: {result[0]}')\n",
    "print(f'p-value: {result[1]}')\n",
    "for key, value in result[4].items():\n",
    "    print('Critial Values:')\n",
    "    print(f'   {key}, {value}')"
   ],
   "metadata": {
    "collapsed": false,
    "pycharm": {
     "name": "#%%\n"
    }
   }
  },
  {
   "cell_type": "code",
   "execution_count": null,
   "outputs": [],
   "source": [
    "if result[1] < 0.05 and result[0] < result[4]['5%']:\n",
    "    print(\"Stationary\")\n",
    "else:\n",
    "    print(\"Non Stationary\")"
   ],
   "metadata": {
    "collapsed": false,
    "pycharm": {
     "name": "#%%\n"
    }
   }
  },
  {
   "cell_type": "code",
   "execution_count": 28,
   "outputs": [
    {
     "data": {
      "text/plain": "<Figure size 432x288 with 4 Axes>",
      "image/png": "[encoded data removed]"
     },
     "metadata": {
      "needs_background": "light"
     },
     "output_type": "display_data"
    }
   ],
   "source": [
    "import matplotlib.pyplot as plt\n",
    "from statsmodels.tsa.seasonal import seasonal_decompose\n",
    "res=seasonal_decompose(df[\"value\"], model='additive',period=1)\n",
    "def plotseasonal(res):\n",
    "    res.observed.plot(ax=axes[0], legend=False)\n",
    "    axes[0].set_ylabel('Observed')\n",
    "    res.trend.plot(ax=axes[1], legend=False)\n",
    "    axes[1].set_ylabel('Trend')\n",
    "    res.seasonal.plot(ax=axes[2], legend=False)\n",
    "    axes[2].set_ylabel('Seasonal')\n",
    "    res.resid.plot(ax=axes[3], legend=False)\n",
    "    axes[3].set_ylabel('Residual')\n",
    "\n",
    "fig, axes = plt.subplots(nrows=4, sharex=True)\n",
    "fig.suptitle('Seasonal Decomposition of Vibration Values for a week')\n",
    "plotseasonal(res)\n",
    "plotseasonal(res)\n",
    "plotseasonal(res)\n",
    "\n",
    "plt.tight_layout(pad=1.08, rect=[0, 0.03, 1, 0.95])\n",
    "\n",
    "# result.plot()\n",
    "plt.savefig('decomposition.jpg', format='jpg', dpi=1200)"
   ],
   "metadata": {
    "collapsed": false,
    "pycharm": {
     "name": "#%%\n"
    }
   }
  },
  {
   "cell_type": "code",
   "execution_count": null,
   "outputs": [],
   "source": [
    "import matplotlib.pyplot as plt\n",
    "import statsmodels.graphics.tsaplots as smt\n",
    "\n",
    "def tsplot(y, lags=None, figsize=(12, 7)):\n",
    "    \"\"\"\n",
    "        Plot time series, its ACF and PACF, calculate Dickey–Fuller test\n",
    "\n",
    "        y - timeseries\n",
    "        lags - how many lags to include in ACF, PACF calculation\n",
    "    \"\"\"\n",
    "    if not isinstance(y, pd.Series):\n",
    "        y = pd.Series(y)\n",
    "\n",
    "    fig = plt.figure(figsize=figsize)\n",
    "    layout = (2, 1)\n",
    "    #ts_ax = plt.subplot2grid(layout, (0, 0), colspan=2)\n",
    "    acf_ax = plt.subplot2grid(layout, (0, 0))\n",
    "    pacf_ax = plt.subplot2grid(layout, (1, 0))\n",
    "\n",
    "    #y.plot(ax=ts_ax)\n",
    "    #p_value = sm.tsa.stattools.adfuller(y)[1]\n",
    "    #ts_ax.set_title('Time Series Analysis Plots\\n Dickey-Fuller: p={0:.5f}'.format(p_value))\n",
    "    smt.plot_acf(y, lags=lags, ax=acf_ax)\n",
    "    smt.plot_pacf(y, lags=lags, ax=pacf_ax)\n",
    "    plt.tight_layout()\n",
    "\n",
    "tsplot(df['value'])\n",
    "\n",
    "from statsmodels.tsa.seasonal import seasonal_decompose\n",
    "result = seasonal_decompose(df.train, model='additive',extrapolate_trend='freq')\n",
    "result.plot()\n",
    "plt.show()"
   ],
   "metadata": {
    "collapsed": false,
    "pycharm": {
     "name": "#%%\n"
    }
   }
  },
  {
   "cell_type": "code",
   "execution_count": null,
   "outputs": [],
   "source": [
    "test_len = int(len(df) * 0.2)\n",
    "train, test = df.iloc[:-test_len], df.iloc[-test_len:]\n",
    "\n",
    "# from sktime.forecasting.arima import AutoARIMA\n",
    "#\n",
    "# forecaster = AutoARIMA(start_p=2, max_p=5, suppress_warnings=True)\n",
    "# train.index = train.index.astype(int)\n",
    "# forecaster.fit(train)\n",
    "# print(forecaster.summary())\n"
   ],
   "metadata": {
    "collapsed": false,
    "pycharm": {
     "name": "#%%\n"
    }
   }
  },
  {
   "cell_type": "code",
   "execution_count": null,
   "outputs": [],
   "source": [
    "import numpy as np\n",
    "from sklearn.metrics import mean_squared_error, mean_absolute_percentage_error\n",
    "\n",
    "# fh = np.arange(test_len) + 1\n",
    "# forecast = forecaster.predict(fh=fh, alpha=0.05)\n",
    "# print(mean_squared_error(test, forecast))\n",
    "from statsmodels.tsa.statespace.sarimax import SARIMAX\n",
    "\n",
    "\n",
    "\n",
    "# from sktime.forecasting.arima import ARIMA\n",
    "# model = ARIMA(train, (4,0,0)).fit()\n",
    "# pred = model.predict(start=len(train))"
   ],
   "metadata": {
    "collapsed": false,
    "pycharm": {
     "name": "#%%\n"
    }
   }
  },
  {
   "cell_type": "code",
   "execution_count": null,
   "outputs": [],
   "source": [
    "from statsmodels.tsa.statespace.sarimax import SARIMAX\n",
    "# from statsmodels.tsa.arima.model import  import ARIMA\n",
    "order = (4, 0, 0)\n",
    "seasonal_order = (1, 1, 0, 60)\n",
    "\n",
    "model = SARIMAX(endog=train, order=order, seasonal_order=seasonal_order)\n",
    "results = model.fit()"
   ],
   "metadata": {
    "collapsed": false,
    "pycharm": {
     "name": "#%%\n"
    }
   }
  },
  {
   "cell_type": "code",
   "execution_count": null,
   "outputs": [],
   "source": [
    "print(len(test))\n",
    "yhat = results.forecast(steps = len(test))\n",
    "print(yhat)\n",
    "lm = pd.DataFrame(index=test.index)\n",
    "lm['pred'] = yhat.values\n",
    "lm['y'] = test['value']\n",
    "print(lm)\n",
    "plt.plot(lm)\n",
    "plt.show()"
   ],
   "metadata": {
    "collapsed": false,
    "pycharm": {
     "name": "#%%\n"
    }
   }
  },
  {
   "cell_type": "code",
   "execution_count": null,
   "outputs": [],
   "source": [
    "\n",
    "from sklearn.metrics import mean_squared_error\n",
    "\n",
    "from statsmodels.tsa.seasonal import seasonal_decompose\n",
    "result = seasonal_decompose(df.train, model='additive',extrapolate_trend='freq')\n",
    "result.plot()\n",
    "plt.show()\n",
    "\n",
    "# print(mean_squared_error(test,yhat,squared=False))"
   ],
   "metadata": {
    "collapsed": false,
    "pycharm": {
     "name": "#%%\n"
    }
   }
  }
 ],
 "metadata": {
  "kernelspec": {
   "display_name": "Python 3",
   "language": "python",
   "name": "python3"
  },
  "language_info": {
   "codemirror_mode": {
    "name": "ipython",
    "version": 2
   },
   "file_extension": ".py",
   "mimetype": "text/x-python",
   "name": "python",
   "nbconvert_exporter": "python",
   "pygments_lexer": "ipython2",
   "version": "2.7.6"
  }
 },
 "nbformat": 4,
 "nbformat_minor": 0
}